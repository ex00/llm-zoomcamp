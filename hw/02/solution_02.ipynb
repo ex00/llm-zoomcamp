{
 "cells": [
  {
   "cell_type": "code",
   "execution_count": 1,
   "id": "74528bc1-90dd-400a-9d69-0615c7ee2ab3",
   "metadata": {},
   "outputs": [
    {
     "name": "stdout",
     "output_type": "stream",
     "text": [
      "/usr/local/python/current/bin/python\n",
      "Python 3.10.8\n"
     ]
    }
   ],
   "source": [
    "%%bash\n",
    "which python\n",
    "python --version\n",
    "#python -m ipykernel install --name py3.10-env --user\n",
    "pip install -q tqdm openai elasticsearch pandas scikit-learn transformers accelerate bitsandbytes tiktoken"
   ]
  },
  {
   "cell_type": "code",
   "execution_count": 15,
   "id": "12860028-df2c-40ec-99f4-f3eca08f8cb7",
   "metadata": {},
   "outputs": [],
   "source": [
    "# %%bash\n",
    "# rm -f minsearch.py\n",
    "# wget https://raw.githubusercontent.com/alexeygrigorev/minsearch/main/minsearch.py"
   ]
  },
  {
   "cell_type": "markdown",
   "id": "c1f7c9b8-bc6d-47b5-9eb1-b9e28d5acec8",
   "metadata": {},
   "source": [
    "## Homework: Open-Source LLMs\n"
   ]
  },
  {
   "cell_type": "markdown",
   "id": "cc7f88d2-ba4f-48a1-94c1-4bce106133ab",
   "metadata": {},
   "source": [
    "In this homework, we'll experiment more with Ollama\n",
    "\n",
    "> It's possible that your answers won't match exactly. If it's the case, select the closest one."
   ]
  },
  {
   "cell_type": "markdown",
   "id": "925876a0-2172-4adc-8a1a-cef6e1498be4",
   "metadata": {},
   "source": [
    "## Q1. Running Ollama with Docker\n"
   ]
  },
  {
   "cell_type": "markdown",
   "id": "a54b725a-013c-4a47-b7a7-8fd571d0e810",
   "metadata": {},
   "source": [
    "Let's run ollama with Docker. We will need to execute the \n",
    "same command as in the lectures:\n",
    "\n",
    "```bash\n",
    "docker run -it \\\n",
    "    --rm \\\n",
    "    -v ollama:/root/.ollama \\\n",
    "    -p 11434:11434 \\\n",
    "    --name ollama \\\n",
    "    ollama/ollama\n",
    "```\n",
    "\n",
    "What's the version of ollama client? \n",
    "\n",
    "To find out, enter the container and execute `ollama` with the `-v` flag."
   ]
  },
  {
   "cell_type": "code",
   "execution_count": 1,
   "id": "70780889-08a8-4881-a717-38dee821494c",
   "metadata": {},
   "outputs": [
    {
     "name": "stdout",
     "output_type": "stream",
     "text": [
      "Warning: could not connect to a running Ollama instance\n",
      "Warning: client version is 0.1.48\n"
     ]
    }
   ],
   "source": [
    "!docker run -it --rm -v ollama:/root/.ollama -p 11434:11434 --name ollama ollama/ollama -v"
   ]
  },
  {
   "cell_type": "markdown",
   "id": "8d8d9201-e9cf-4304-ada8-d8681fd92760",
   "metadata": {},
   "source": [
    "**Answer**: 0.1.48"
   ]
  },
  {
   "cell_type": "markdown",
   "id": "168942fc-6191-4703-a28d-84ed8872af96",
   "metadata": {},
   "source": [
    "## Q2. Downloading an LLM "
   ]
  },
  {
   "cell_type": "markdown",
   "id": "75482781-bade-488e-8440-f1da840de6ce",
   "metadata": {},
   "source": [
    "We will donwload a smaller LLM - gemma:2b. \n",
    "\n",
    "Again let's enter the container and pull the model:\n",
    "\n",
    "```bash\n",
    "ollama pull gemma:2b\n",
    "```\n",
    "\n",
    "In docker, it saved the results into `/root/.ollama`\n",
    "\n",
    "We're interested in the metadata about this model. You can find\n",
    "it in `models/manifests/registry.ollama.ai/library`\n",
    "\n",
    "What's the content of the file related to gemma?"
   ]
  },
  {
   "cell_type": "code",
   "execution_count": 2,
   "id": "92572641-6db1-4cfb-b212-05db5f77e87d",
   "metadata": {},
   "outputs": [
    {
     "name": "stdout",
     "output_type": "stream",
     "text": [
      "1d30893ab213b2b90525655c438484e404f05e7a1e577cde35b7d83431538754\n"
     ]
    }
   ],
   "source": [
    "!docker run -it -d --rm -v ollama:/root/.ollama -p 11434:11434 --name ollama ollama/ollama"
   ]
  },
  {
   "cell_type": "code",
   "execution_count": 4,
   "id": "04b1327c-77d4-4374-8fa4-ecfc32c4d0ef",
   "metadata": {},
   "outputs": [
    {
     "name": "stdout",
     "output_type": "stream",
     "text": [
      "\u001b[?25lpulling manifest ⠙ \u001b[?25h\u001b[?25l\u001b[2K\u001b[1Gpulling manifest ⠹ \u001b[?25h\u001b[?25l\u001b[2K\u001b[1Gpulling manifest ⠹ \u001b[?25h\u001b[?25l\u001b[2K\u001b[1Gpulling manifest ⠸ \u001b[?25h\u001b[?25l\u001b[2K\u001b[1Gpulling manifest \n",
      "pulling c1864a5eb193... 100% ▕████████████████▏ 1.7 GB                         \n",
      "pulling 097a36493f71... 100% ▕████████████████▏ 8.4 KB                         \n",
      "pulling 109037bec39c... 100% ▕████████████████▏  136 B                         \n",
      "pulling 22a838ceb7fb... 100% ▕████████████████▏   84 B                         \n",
      "pulling 887433b89a90... 100% ▕████████████████▏  483 B                         \n",
      "verifying sha256 digest \n",
      "writing manifest \n",
      "removing any unused layers \n",
      "success \u001b[?25h\n"
     ]
    }
   ],
   "source": [
    "!docker exec -it ollama ollama pull gemma:2b"
   ]
  },
  {
   "cell_type": "code",
   "execution_count": 32,
   "id": "55c7357d-a7d9-4c6e-90cb-3d7dec2b9ad3",
   "metadata": {},
   "outputs": [
    {
     "name": "stdout",
     "output_type": "stream",
     "text": [
      "\u001b[0;32m\"/var/lib/docker/volumes/ollama/_data\"\u001b[0m\n"
     ]
    }
   ],
   "source": [
    "!docker volume inspect ollama | jq '.[][\"Mountpoint\"]'"
   ]
  },
  {
   "cell_type": "code",
   "execution_count": 39,
   "id": "60d5adce-7eee-4b70-a3db-7ae49030d69a",
   "metadata": {},
   "outputs": [
    {
     "name": "stdout",
     "output_type": "stream",
     "text": [
      "/var/lib/docker/volumes/ollama/_data/models/manifests/registry.ollama.ai/library/gemma\n",
      "└── 2b\n",
      "\n",
      "0 directories, 1 file\n"
     ]
    }
   ],
   "source": [
    "!sudo tree -R /var/lib/docker/volumes/ollama/_data/models/manifests/registry.ollama.ai/library/gemma"
   ]
  },
  {
   "cell_type": "code",
   "execution_count": 47,
   "id": "1c9ce6f4-39e4-436e-8f30-efa423d11184",
   "metadata": {},
   "outputs": [
    {
     "name": "stdout",
     "output_type": "stream",
     "text": [
      "1.6G\t/var/lib/docker/volumes/ollama/_data/models/blobs\n",
      "8.0K\t/var/lib/docker/volumes/ollama/_data/models/manifests/registry.ollama.ai/library/gemma\n",
      "12K\t/var/lib/docker/volumes/ollama/_data/models/manifests/registry.ollama.ai/library\n",
      "16K\t/var/lib/docker/volumes/ollama/_data/models/manifests/registry.ollama.ai\n",
      "20K\t/var/lib/docker/volumes/ollama/_data/models/manifests\n",
      "1.6G\t/var/lib/docker/volumes/ollama/_data/models/\n"
     ]
    }
   ],
   "source": [
    "!sudo du -h /var/lib/docker/volumes/ollama/_data/models/"
   ]
  },
  {
   "cell_type": "code",
   "execution_count": 49,
   "id": "2ee5e9bb-af41-40c5-ba38-0e6e1db5b480",
   "metadata": {},
   "outputs": [
    {
     "name": "stdout",
     "output_type": "stream",
     "text": [
      "{\"schemaVersion\":2,\"mediaType\":\"application/vnd.docker.distribution.manifest.v2+json\",\"config\":{\"mediaType\":\"application/vnd.docker.container.image.v1+json\",\"digest\":\"sha256:887433b89a901c156f7e6944442f3c9e57f3c55d6ed52042cbb7303aea994290\",\"size\":483},\"layers\":[{\"mediaType\":\"application/vnd.ollama.image.model\",\"digest\":\"sha256:c1864a5eb19305c40519da12cc543519e48a0697ecd30e15d5ac228644957d12\",\"size\":1678447520},{\"mediaType\":\"application/vnd.ollama.image.license\",\"digest\":\"sha256:097a36493f718248845233af1d3fefe7a303f864fae13bc31a3a9704229378ca\",\"size\":8433},{\"mediaType\":\"application/vnd.ollama.image.template\",\"digest\":\"sha256:109037bec39c0becc8221222ae23557559bc594290945a2c4221ab4f303b8871\",\"size\":136},{\"mediaType\":\"application/vnd.ollama.image.params\",\"digest\":\"sha256:22a838ceb7fb22755a3b0ae9b4eadde629d19be1f651f73efb8c6b4e2cd0eea0\",\"size\":84}]}"
     ]
    }
   ],
   "source": [
    "!sudo cat /var/lib/docker/volumes/ollama/_data/models/manifests/registry.ollama.ai/library/gemma/2b\n"
   ]
  },
  {
   "cell_type": "markdown",
   "id": "afb0f8cd-6fe2-46be-93fa-c1f79b429d7b",
   "metadata": {},
   "source": [
    "## Q3. Running the LLM\n"
   ]
  },
  {
   "cell_type": "markdown",
   "id": "1da5eb0b-8dbb-4d5d-a5ac-81426b3a577c",
   "metadata": {},
   "source": [
    "Test the following prompt: \"10 * 10\". What's the answer?"
   ]
  },
  {
   "cell_type": "code",
   "execution_count": 2,
   "id": "97c2550b-c07f-4b8b-a8eb-2ed56f9ab30d",
   "metadata": {},
   "outputs": [],
   "source": [
    "from openai import OpenAI\n",
    "\n",
    "ollama_client = OpenAI(\n",
    "    base_url='http://localhost:11434/v1/',\n",
    "    api_key='ollama',\n",
    ")"
   ]
  },
  {
   "cell_type": "code",
   "execution_count": 54,
   "id": "fda8d4ad-a683-45b4-81a0-faf11b2b1d59",
   "metadata": {},
   "outputs": [],
   "source": [
    "def llm(prompt, client, model='gemma:2b'):\n",
    "    response = client.chat.completions.create(\n",
    "        model=model,\n",
    "        messages=[{\"role\": \"user\", \"content\": prompt}]\n",
    "    )\n",
    "    return response.choices[0].message.content"
   ]
  },
  {
   "cell_type": "code",
   "execution_count": 55,
   "id": "09b93e04-2d11-4e75-b8bb-787b66fe8392",
   "metadata": {},
   "outputs": [
    {
     "data": {
      "text/plain": [
       "'Sure, here is the model you requested:\\n\\n10 * 10'"
      ]
     },
     "execution_count": 55,
     "metadata": {},
     "output_type": "execute_result"
    }
   ],
   "source": [
    "llm(\"10 * 10\", ollama_client)"
   ]
  },
  {
   "cell_type": "markdown",
   "id": "9c00f48f-e317-4287-9fbd-044e091fad44",
   "metadata": {},
   "source": [
    "## Q4. Donwloading the weights "
   ]
  },
  {
   "cell_type": "markdown",
   "id": "d06c9788-1b55-4e4b-996e-ef583a0a81a4",
   "metadata": {},
   "source": [
    "We don't want to pull the weights every time we run\n",
    "a docker container. Let's do it once and have them available\n",
    "every time we start a container.\n",
    "\n",
    "First, we will need to change how we run the container.\n",
    "\n",
    "Instead of mapping the `/root/.ollama` folder to a named volume,\n",
    "let's map it to a local directory:\n",
    "\n",
    "```bash\n",
    "mkdir ollama_files\n",
    "\n",
    "docker run -it \\\n",
    "    --rm \\\n",
    "    -v ./ollama_files:/root/.ollama \\\n",
    "    -p 11434:11434 \\\n",
    "    --name ollama \\\n",
    "    ollama/ollama\n",
    "```\n",
    "\n",
    "Now pull the model:\n",
    "\n",
    "```bash\n",
    "docker exec -it ollama ollama pull gemma:2b \n",
    "```\n",
    "\n",
    "What's the size of the `ollama_files/models` folder? \n",
    "\n",
    "* 0.6G\n",
    "* 1.2G\n",
    "* 1.7G\n",
    "* 2.2G\n",
    "\n",
    "Hint: on linux, you can use `du -h` for that."
   ]
  },
  {
   "cell_type": "code",
   "execution_count": 60,
   "id": "cc4a9770-5ef8-4624-8f80-a2146ea0138a",
   "metadata": {},
   "outputs": [
    {
     "name": "stdout",
     "output_type": "stream",
     "text": [
      "ollama\n",
      "mkdir: missing operand\n",
      "Try 'mkdir --help' for more information.\n",
      "8fb4482cec72efa9bff2daabf36b96b551ed6d278cf6db271aa9426e8f9f43bd\n"
     ]
    }
   ],
   "source": [
    "!docker kill ollama\n",
    "!mkdir  \n",
    "!docker run -it --rm -d -v ./ollama_files:/root/.ollama -p 11434:11434 --name ollama ollama/ollama\n",
    "!docker exec -it -d ollama ollama pull gemma:2b"
   ]
  },
  {
   "cell_type": "code",
   "execution_count": 61,
   "id": "90736593-d73f-4a7a-84b4-3112ac7fb90d",
   "metadata": {},
   "outputs": [
    {
     "name": "stdout",
     "output_type": "stream",
     "text": [
      "1.6G\t./ollama_files\n"
     ]
    }
   ],
   "source": [
    "!du -hs ./ollama_files"
   ]
  },
  {
   "cell_type": "markdown",
   "id": "8b5ad7dd-1cd2-41f0-b39b-7504ada68892",
   "metadata": {},
   "source": [
    "## Q5. Adding the weights "
   ]
  },
  {
   "cell_type": "markdown",
   "id": "21bfa30d-9982-4905-bb64-93243cc3755c",
   "metadata": {},
   "source": [
    "Let's now stop the container and add the weights \n",
    "to a new image\n",
    "\n",
    "For that, let's create a `Dockerfile`:\n",
    "\n",
    "```dockerfile\n",
    "FROM ollama/ollama\n",
    "\n",
    "COPY ...\n",
    "```\n",
    "\n",
    "What do you put after `COPY`?"
   ]
  },
  {
   "cell_type": "code",
   "execution_count": 62,
   "id": "ff77ce4f-374e-4a79-9641-df9780e81b35",
   "metadata": {},
   "outputs": [
    {
     "name": "stdout",
     "output_type": "stream",
     "text": [
      "Writing Dockerfile\n"
     ]
    }
   ],
   "source": [
    "%%writefile Dockerfile\n",
    "FROM ollama/ollama\n",
    "\n",
    "COPY ./ollama_files /root/.ollama"
   ]
  },
  {
   "cell_type": "markdown",
   "id": "c9478120-e8c8-4d8f-99c9-cd652c2ba6ef",
   "metadata": {},
   "source": [
    "## Q6. Serving it"
   ]
  },
  {
   "cell_type": "markdown",
   "id": "7b97b62f-c8aa-4527-964b-bdded798e994",
   "metadata": {},
   "source": [
    "Let's build it:\n",
    "\n",
    "```bash\n",
    "docker build -t ollama-gemma2b .\n",
    "```\n",
    "\n",
    "And run it:\n",
    "\n",
    "```bash\n",
    "docker run -it --rm -p 11434:11434 ollama-gemma2b\n",
    "```\n",
    "\n",
    "We can connect to it using the OpenAI client\n",
    "\n",
    "Let's test it with the following prompt:\n",
    "\n",
    "```python\n",
    "prompt = \"What's the formula for energy?\"\n",
    "```\n",
    "\n",
    "Also, to make results reproducible, set the `temperature` parameter to 0:\n",
    "\n",
    "```bash\n",
    "response = client.chat.completions.create(\n",
    "    #...\n",
    "    temperature=0.0\n",
    ")\n",
    "```\n",
    "\n",
    "How many completion tokens did you get in response?\n",
    "\n",
    "* 304\n",
    "* 604\n",
    "* 904\n",
    "* 1204"
   ]
  },
  {
   "cell_type": "code",
   "execution_count": 63,
   "id": "c2e2b9a2-af78-4c45-a1b8-c8581f6dc708",
   "metadata": {},
   "outputs": [
    {
     "name": "stdout",
     "output_type": "stream",
     "text": [
      "ollama\n"
     ]
    }
   ],
   "source": [
    "!docker kill ollama"
   ]
  },
  {
   "cell_type": "code",
   "execution_count": null,
   "id": "356ea11c-b15b-42c7-9585-21dfc08f73f4",
   "metadata": {
    "scrolled": true
   },
   "outputs": [],
   "source": [
    "!docker build -t ollama-gemma2b ."
   ]
  },
  {
   "cell_type": "code",
   "execution_count": 65,
   "id": "9e147253-db4d-4186-bf39-bbc419a439e4",
   "metadata": {},
   "outputs": [
    {
     "name": "stdout",
     "output_type": "stream",
     "text": [
      "4d9e466a819bf6f495f9a15a20eb0108fce8d0c1bdfd422af74564c19f241f60\n"
     ]
    }
   ],
   "source": [
    "!docker run -it -d --rm -p 11434:11434 ollama-gemma2b"
   ]
  },
  {
   "cell_type": "code",
   "execution_count": 3,
   "id": "0a6c97a9-b64f-4a8e-a79d-7abf372b9662",
   "metadata": {},
   "outputs": [],
   "source": [
    "def llm(prompt, client, model='gemma:2b',temperature=0.0):\n",
    "    response = client.chat.completions.create(\n",
    "        model=model,\n",
    "        messages=[{\"role\": \"user\", \"content\": prompt}],\n",
    "        temperature=temperature\n",
    "    )\n",
    "    return response.choices[0].message.content"
   ]
  },
  {
   "cell_type": "code",
   "execution_count": 4,
   "id": "3d574d6e-06c3-4330-b626-e6cc73000038",
   "metadata": {},
   "outputs": [
    {
     "data": {
      "text/plain": [
       "\"Sure, here's the formula for energy:\\n\\n**E = K + U**\\n\\nWhere:\\n\\n* **E** is the energy in joules (J)\\n* **K** is the kinetic energy in joules (J)\\n* **U** is the potential energy in joules (J)\\n\\n**Kinetic energy (K)** is the energy an object possesses when it moves or is in motion. It is calculated as half the product of an object's mass (m) and its velocity (v) squared:\\n\\n**K = 1/2 * m * v^2**\\n\\n**Potential energy (U)** is the energy an object possesses when it is in a position or has a specific configuration. It is calculated as the product of an object's mass and the gravitational constant (g) multiplied by the height or distance of the object from a reference point.\\n\\n**Gravitational potential energy (U)** is given by the formula:\\n\\n**U = mgh**\\n\\nWhere:\\n\\n* **m** is the mass of the object in kilograms (kg)\\n* **g** is the acceleration due to gravity in meters per second squared (m/s^2)\\n* **h** is the height or distance of the object in meters (m)\\n\\nThe formula for energy can be used to calculate the total energy of an object, the energy of a specific part of an object, or the change in energy of an object over time.\""
      ]
     },
     "execution_count": 4,
     "metadata": {},
     "output_type": "execute_result"
    }
   ],
   "source": [
    "prompt = \"What's the formula for energy?\"\n",
    "responce = llm(prompt, ollama_client,temperature=0.0)\n",
    "responce"
   ]
  },
  {
   "cell_type": "code",
   "execution_count": 5,
   "id": "c0ce8111-a31d-4ea9-9b59-5cdc4c416322",
   "metadata": {},
   "outputs": [
    {
     "name": "stdout",
     "output_type": "stream",
     "text": [
      "Sure, here's the formula for energy:\n",
      "\n",
      "**E = K + U**\n",
      "\n",
      "Where:\n",
      "\n",
      "* **E** is the energy in joules (J)\n",
      "* **K** is the kinetic energy in joules (J)\n",
      "* **U** is the potential energy in joules (J)\n",
      "\n",
      "**Kinetic energy (K)** is the energy an object possesses when it moves or is in motion. It is calculated as half the product of an object's mass (m) and its velocity (v) squared:\n",
      "\n",
      "**K = 1/2 * m * v^2**\n",
      "\n",
      "**Potential energy (U)** is the energy an object possesses when it is in a position or has a specific configuration. It is calculated as the product of an object's mass and the gravitational constant (g) multiplied by the height or distance of the object from a reference point.\n",
      "\n",
      "**Gravitational potential energy (U)** is given by the formula:\n",
      "\n",
      "**U = mgh**\n",
      "\n",
      "Where:\n",
      "\n",
      "* **m** is the mass of the object in kilograms (kg)\n",
      "* **g** is the acceleration due to gravity in meters per second squared (m/s^2)\n",
      "* **h** is the height or distance of the object in meters (m)\n",
      "\n",
      "The formula for energy can be used to calculate the total energy of an object, the energy of a specific part of an object, or the change in energy of an object over time.\n"
     ]
    }
   ],
   "source": [
    "print(_)"
   ]
  },
  {
   "cell_type": "code",
   "execution_count": 24,
   "id": "38afff28-66f4-44d7-a34f-40c15d7cd20d",
   "metadata": {},
   "outputs": [],
   "source": []
  },
  {
   "cell_type": "code",
   "execution_count": 26,
   "id": "89a6240d-104d-4e9a-8243-74e07dfc30c2",
   "metadata": {},
   "outputs": [
    {
     "data": {
      "text/plain": [
       "304"
      ]
     },
     "execution_count": 26,
     "metadata": {},
     "output_type": "execute_result"
    }
   ],
   "source": [
    "from transformers import GemmaTokenizerFast\n",
    "tokenizer = GemmaTokenizerFast.from_pretrained(\"hf-internal-testing/dummy-gemma\")\n",
    "len(tokenizer.encode(responce))"
   ]
  },
  {
   "cell_type": "code",
   "execution_count": null,
   "id": "74ed833f-bb2b-4378-9d2d-101a91e6c65e",
   "metadata": {},
   "outputs": [],
   "source": []
  }
 ],
 "metadata": {
  "kernelspec": {
   "display_name": "py3.10-env",
   "language": "python",
   "name": "py3.10-env"
  },
  "language_info": {
   "codemirror_mode": {
    "name": "ipython",
    "version": 3
   },
   "file_extension": ".py",
   "mimetype": "text/x-python",
   "name": "python",
   "nbconvert_exporter": "python",
   "pygments_lexer": "ipython3",
   "version": "3.10.8"
  }
 },
 "nbformat": 4,
 "nbformat_minor": 5
}
